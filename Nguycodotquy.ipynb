{
  "nbformat": 4,
  "nbformat_minor": 0,
  "metadata": {
    "colab": {
      "name": "Nguycodotquy.ipynb",
      "provenance": [],
      "collapsed_sections": [],
      "authorship_tag": "ABX9TyOjCQWTVmYyJmTLwmTnpww5",
      "include_colab_link": true
    },
    "kernelspec": {
      "name": "python3",
      "display_name": "Python 3"
    },
    "language_info": {
      "name": "python"
    }
  },
  "cells": [
    {
      "cell_type": "markdown",
      "metadata": {
        "id": "view-in-github",
        "colab_type": "text"
      },
      "source": [
        "<a href=\"https://colab.research.google.com/github/HoangLong1907/AI-TempoRun/blob/main/Nguycodotquy.ipynb\" target=\"_parent\"><img src=\"https://colab.research.google.com/assets/colab-badge.svg\" alt=\"Open In Colab\"/></a>"
      ]
    },
    {
      "cell_type": "code",
      "metadata": {
        "colab": {
          "base_uri": "https://localhost:8080/"
        },
        "id": "sRrovysiP98Z",
        "outputId": "aec7c3a0-9e1d-4dae-8b2f-c5d616e22d4a"
      },
      "source": [
        "from google.colab import drive\n",
        "drive.mount('/content/drive', force_remount=True)"
      ],
      "execution_count": null,
      "outputs": [
        {
          "output_type": "stream",
          "text": [
            "Mounted at /content/drive\n"
          ],
          "name": "stdout"
        }
      ]
    },
    {
      "cell_type": "code",
      "metadata": {
        "id": "1j9bZ0DQQWmr"
      },
      "source": [
        "import numpy as np\n",
        "import pandas as pd"
      ],
      "execution_count": null,
      "outputs": []
    },
    {
      "cell_type": "code",
      "metadata": {
        "colab": {
          "base_uri": "https://localhost:8080/"
        },
        "id": "16-MJkaJQkek",
        "outputId": "f4eab074-1b7c-41f1-e2a4-42dedd34645f"
      },
      "source": [
        "train_path = '/content/drive/MyDrive/AI Tempo Run/train.csv'\n",
        "train = pd.read_csv(train_path)\n",
        "print(train.shape)"
      ],
      "execution_count": null,
      "outputs": [
        {
          "output_type": "stream",
          "text": [
            "(4000, 14)\n"
          ],
          "name": "stdout"
        }
      ]
    },
    {
      "cell_type": "markdown",
      "metadata": {
        "id": "8X37r2vTAzTk"
      },
      "source": [
        "Thông tin tập train"
      ]
    },
    {
      "cell_type": "code",
      "metadata": {
        "colab": {
          "base_uri": "https://localhost:8080/"
        },
        "id": "ZUDBEHz8WeOO",
        "outputId": "9d079337-ba20-46c1-af41-25cd3a1d7bfb"
      },
      "source": [
        "train.info()"
      ],
      "execution_count": null,
      "outputs": [
        {
          "output_type": "stream",
          "text": [
            "<class 'pandas.core.frame.DataFrame'>\n",
            "RangeIndex: 4000 entries, 0 to 3999\n",
            "Data columns (total 14 columns):\n",
            " #   Column             Non-Null Count  Dtype  \n",
            "---  ------             --------------  -----  \n",
            " 0   id                 4000 non-null   int64  \n",
            " 1   gender             4000 non-null   object \n",
            " 2   age                3893 non-null   float64\n",
            " 3   hypertension       3770 non-null   float64\n",
            " 4   heart_disease      3910 non-null   float64\n",
            " 5   ever_married       4000 non-null   object \n",
            " 6   work_type          4000 non-null   object \n",
            " 7   Residence_type     4000 non-null   object \n",
            " 8   avg_glucose_level  3829 non-null   float64\n",
            " 9   bmi                2884 non-null   float64\n",
            " 10  smoking_status     4000 non-null   object \n",
            " 11  blood              3990 non-null   object \n",
            " 12  height             2928 non-null   float64\n",
            " 13  stroke             4000 non-null   int64  \n",
            "dtypes: float64(6), int64(2), object(6)\n",
            "memory usage: 437.6+ KB\n"
          ],
          "name": "stdout"
        }
      ]
    },
    {
      "cell_type": "code",
      "metadata": {
        "colab": {
          "base_uri": "https://localhost:8080/",
          "height": 195
        },
        "id": "ZA7x4PTmXbH2",
        "outputId": "8b21a881-dc45-49a4-d671-91078f724e48"
      },
      "source": [
        "train.head()"
      ],
      "execution_count": null,
      "outputs": [
        {
          "output_type": "execute_result",
          "data": {
            "text/html": [
              "<div>\n",
              "<style scoped>\n",
              "    .dataframe tbody tr th:only-of-type {\n",
              "        vertical-align: middle;\n",
              "    }\n",
              "\n",
              "    .dataframe tbody tr th {\n",
              "        vertical-align: top;\n",
              "    }\n",
              "\n",
              "    .dataframe thead th {\n",
              "        text-align: right;\n",
              "    }\n",
              "</style>\n",
              "<table border=\"1\" class=\"dataframe\">\n",
              "  <thead>\n",
              "    <tr style=\"text-align: right;\">\n",
              "      <th></th>\n",
              "      <th>id</th>\n",
              "      <th>gender</th>\n",
              "      <th>age</th>\n",
              "      <th>hypertension</th>\n",
              "      <th>heart_disease</th>\n",
              "      <th>ever_married</th>\n",
              "      <th>work_type</th>\n",
              "      <th>Residence_type</th>\n",
              "      <th>avg_glucose_level</th>\n",
              "      <th>bmi</th>\n",
              "      <th>smoking_status</th>\n",
              "      <th>blood</th>\n",
              "      <th>height</th>\n",
              "      <th>stroke</th>\n",
              "    </tr>\n",
              "  </thead>\n",
              "  <tbody>\n",
              "    <tr>\n",
              "      <th>0</th>\n",
              "      <td>77</td>\n",
              "      <td>Female</td>\n",
              "      <td>NaN</td>\n",
              "      <td>0.0</td>\n",
              "      <td>0.0</td>\n",
              "      <td>No</td>\n",
              "      <td>children</td>\n",
              "      <td>Unknown</td>\n",
              "      <td>85.81</td>\n",
              "      <td>18.6</td>\n",
              "      <td>Unknown</td>\n",
              "      <td>O</td>\n",
              "      <td>NaN</td>\n",
              "      <td>0</td>\n",
              "    </tr>\n",
              "    <tr>\n",
              "      <th>1</th>\n",
              "      <td>84</td>\n",
              "      <td>Male</td>\n",
              "      <td>55.0</td>\n",
              "      <td>0.0</td>\n",
              "      <td>0.0</td>\n",
              "      <td>Yes</td>\n",
              "      <td>Private</td>\n",
              "      <td>Urban</td>\n",
              "      <td>89.17</td>\n",
              "      <td>NaN</td>\n",
              "      <td>never smoked</td>\n",
              "      <td>B</td>\n",
              "      <td>1.59</td>\n",
              "      <td>0</td>\n",
              "    </tr>\n",
              "    <tr>\n",
              "      <th>2</th>\n",
              "      <td>91</td>\n",
              "      <td>Female</td>\n",
              "      <td>42.0</td>\n",
              "      <td>0.0</td>\n",
              "      <td>0.0</td>\n",
              "      <td>No</td>\n",
              "      <td>Private</td>\n",
              "      <td>Unknown</td>\n",
              "      <td>98.53</td>\n",
              "      <td>18.5</td>\n",
              "      <td>never smoked</td>\n",
              "      <td>B</td>\n",
              "      <td>NaN</td>\n",
              "      <td>0</td>\n",
              "    </tr>\n",
              "    <tr>\n",
              "      <th>3</th>\n",
              "      <td>99</td>\n",
              "      <td>Female</td>\n",
              "      <td>31.0</td>\n",
              "      <td>0.0</td>\n",
              "      <td>0.0</td>\n",
              "      <td>No</td>\n",
              "      <td>Private</td>\n",
              "      <td>Urban</td>\n",
              "      <td>108.89</td>\n",
              "      <td>52.3</td>\n",
              "      <td>Unknown</td>\n",
              "      <td>O</td>\n",
              "      <td>1.24</td>\n",
              "      <td>0</td>\n",
              "    </tr>\n",
              "    <tr>\n",
              "      <th>4</th>\n",
              "      <td>121</td>\n",
              "      <td>Female</td>\n",
              "      <td>38.0</td>\n",
              "      <td>0.0</td>\n",
              "      <td>0.0</td>\n",
              "      <td>Yes</td>\n",
              "      <td>Private</td>\n",
              "      <td>Unknown</td>\n",
              "      <td>91.44</td>\n",
              "      <td>NaN</td>\n",
              "      <td>Unknown</td>\n",
              "      <td>O</td>\n",
              "      <td>NaN</td>\n",
              "      <td>0</td>\n",
              "    </tr>\n",
              "  </tbody>\n",
              "</table>\n",
              "</div>"
            ],
            "text/plain": [
              "    id  gender   age  hypertension  ...  smoking_status blood height stroke\n",
              "0   77  Female   NaN           0.0  ...         Unknown     O    NaN      0\n",
              "1   84    Male  55.0           0.0  ...    never smoked     B   1.59      0\n",
              "2   91  Female  42.0           0.0  ...    never smoked     B    NaN      0\n",
              "3   99  Female  31.0           0.0  ...         Unknown     O   1.24      0\n",
              "4  121  Female  38.0           0.0  ...         Unknown     O    NaN      0\n",
              "\n",
              "[5 rows x 14 columns]"
            ]
          },
          "metadata": {
            "tags": []
          },
          "execution_count": 5
        }
      ]
    },
    {
      "cell_type": "code",
      "metadata": {
        "colab": {
          "base_uri": "https://localhost:8080/",
          "height": 212
        },
        "id": "mfzTDbEORIpN",
        "outputId": "26cc4e09-1212-4aaa-a4d8-c1435a531870"
      },
      "source": [
        "test_path = '/content/drive/MyDrive/AI Tempo Run/public_test.csv'\n",
        "test = pd.read_csv(test_path)\n",
        "print(test.shape)\n",
        "test.head()"
      ],
      "execution_count": null,
      "outputs": [
        {
          "output_type": "stream",
          "text": [
            "(500, 13)\n"
          ],
          "name": "stdout"
        },
        {
          "output_type": "execute_result",
          "data": {
            "text/html": [
              "<div>\n",
              "<style scoped>\n",
              "    .dataframe tbody tr th:only-of-type {\n",
              "        vertical-align: middle;\n",
              "    }\n",
              "\n",
              "    .dataframe tbody tr th {\n",
              "        vertical-align: top;\n",
              "    }\n",
              "\n",
              "    .dataframe thead th {\n",
              "        text-align: right;\n",
              "    }\n",
              "</style>\n",
              "<table border=\"1\" class=\"dataframe\">\n",
              "  <thead>\n",
              "    <tr style=\"text-align: right;\">\n",
              "      <th></th>\n",
              "      <th>id</th>\n",
              "      <th>gender</th>\n",
              "      <th>age</th>\n",
              "      <th>hypertension</th>\n",
              "      <th>heart_disease</th>\n",
              "      <th>ever_married</th>\n",
              "      <th>work_type</th>\n",
              "      <th>Residence_type</th>\n",
              "      <th>avg_glucose_level</th>\n",
              "      <th>bmi</th>\n",
              "      <th>smoking_status</th>\n",
              "      <th>blood</th>\n",
              "      <th>height</th>\n",
              "    </tr>\n",
              "  </thead>\n",
              "  <tbody>\n",
              "    <tr>\n",
              "      <th>0</th>\n",
              "      <td>67</td>\n",
              "      <td>Female</td>\n",
              "      <td>17.0</td>\n",
              "      <td>0.0</td>\n",
              "      <td>0.0</td>\n",
              "      <td>No</td>\n",
              "      <td>Private</td>\n",
              "      <td>Urban</td>\n",
              "      <td>92.97</td>\n",
              "      <td>NaN</td>\n",
              "      <td>formerly smoked</td>\n",
              "      <td>AB</td>\n",
              "      <td>NaN</td>\n",
              "    </tr>\n",
              "    <tr>\n",
              "      <th>1</th>\n",
              "      <td>210</td>\n",
              "      <td>Male</td>\n",
              "      <td>81.0</td>\n",
              "      <td>0.0</td>\n",
              "      <td>0.0</td>\n",
              "      <td>Yes</td>\n",
              "      <td>Self-employed</td>\n",
              "      <td>Rural</td>\n",
              "      <td>91.54</td>\n",
              "      <td>31.4</td>\n",
              "      <td>never smoked</td>\n",
              "      <td>A</td>\n",
              "      <td>1.60</td>\n",
              "    </tr>\n",
              "    <tr>\n",
              "      <th>2</th>\n",
              "      <td>242</td>\n",
              "      <td>Male</td>\n",
              "      <td>4.0</td>\n",
              "      <td>NaN</td>\n",
              "      <td>0.0</td>\n",
              "      <td>No</td>\n",
              "      <td>children</td>\n",
              "      <td>Urban</td>\n",
              "      <td>98.56</td>\n",
              "      <td>17.5</td>\n",
              "      <td>Unknown</td>\n",
              "      <td>O</td>\n",
              "      <td>NaN</td>\n",
              "    </tr>\n",
              "    <tr>\n",
              "      <th>3</th>\n",
              "      <td>711</td>\n",
              "      <td>Male</td>\n",
              "      <td>81.0</td>\n",
              "      <td>0.0</td>\n",
              "      <td>NaN</td>\n",
              "      <td>Yes</td>\n",
              "      <td>Private</td>\n",
              "      <td>Rural</td>\n",
              "      <td>92.96</td>\n",
              "      <td>22.2</td>\n",
              "      <td>never smoked</td>\n",
              "      <td>AB</td>\n",
              "      <td>NaN</td>\n",
              "    </tr>\n",
              "    <tr>\n",
              "      <th>4</th>\n",
              "      <td>724</td>\n",
              "      <td>Male</td>\n",
              "      <td>17.0</td>\n",
              "      <td>0.0</td>\n",
              "      <td>0.0</td>\n",
              "      <td>No</td>\n",
              "      <td>Private</td>\n",
              "      <td>Rural</td>\n",
              "      <td>81.77</td>\n",
              "      <td>44.7</td>\n",
              "      <td>never smoked</td>\n",
              "      <td>O</td>\n",
              "      <td>1.34</td>\n",
              "    </tr>\n",
              "  </tbody>\n",
              "</table>\n",
              "</div>"
            ],
            "text/plain": [
              "    id  gender   age  hypertension  ...   bmi   smoking_status blood height\n",
              "0   67  Female  17.0           0.0  ...   NaN  formerly smoked    AB    NaN\n",
              "1  210    Male  81.0           0.0  ...  31.4     never smoked     A   1.60\n",
              "2  242    Male   4.0           NaN  ...  17.5          Unknown     O    NaN\n",
              "3  711    Male  81.0           0.0  ...  22.2     never smoked    AB    NaN\n",
              "4  724    Male  17.0           0.0  ...  44.7     never smoked     O   1.34\n",
              "\n",
              "[5 rows x 13 columns]"
            ]
          },
          "metadata": {
            "tags": []
          },
          "execution_count": 6
        }
      ]
    },
    {
      "cell_type": "markdown",
      "metadata": {
        "id": "gJIxcGTWA2zh"
      },
      "source": [
        "Thông tin tập test"
      ]
    },
    {
      "cell_type": "code",
      "metadata": {
        "colab": {
          "base_uri": "https://localhost:8080/"
        },
        "id": "OFPsjtJ7yj0B",
        "outputId": "394e290e-7e1d-479b-81fe-0ef753386f11"
      },
      "source": [
        "test.info()"
      ],
      "execution_count": null,
      "outputs": [
        {
          "output_type": "stream",
          "text": [
            "<class 'pandas.core.frame.DataFrame'>\n",
            "RangeIndex: 500 entries, 0 to 499\n",
            "Data columns (total 13 columns):\n",
            " #   Column             Non-Null Count  Dtype  \n",
            "---  ------             --------------  -----  \n",
            " 0   id                 500 non-null    int64  \n",
            " 1   gender             500 non-null    object \n",
            " 2   age                489 non-null    float64\n",
            " 3   hypertension       455 non-null    float64\n",
            " 4   heart_disease      366 non-null    float64\n",
            " 5   ever_married       500 non-null    object \n",
            " 6   work_type          500 non-null    object \n",
            " 7   Residence_type     500 non-null    object \n",
            " 8   avg_glucose_level  494 non-null    float64\n",
            " 9   bmi                457 non-null    float64\n",
            " 10  smoking_status     500 non-null    object \n",
            " 11  blood              500 non-null    object \n",
            " 12  height             376 non-null    float64\n",
            "dtypes: float64(6), int64(1), object(6)\n",
            "memory usage: 50.9+ KB\n"
          ],
          "name": "stdout"
        }
      ]
    },
    {
      "cell_type": "code",
      "metadata": {
        "id": "dGC-JcB2zt03"
      },
      "source": [
        "import matplotlib.pyplot as plt\n",
        "import seaborn as sns"
      ],
      "execution_count": null,
      "outputs": []
    },
    {
      "cell_type": "code",
      "metadata": {
        "id": "ooJ8jX46lQV4"
      },
      "source": [
        "def Chart(data):\n",
        "  fig,axes = plt.subplots(4,3, figsize = (15,20))\n",
        "\n",
        "  sns.set_style('darkgrid')\n",
        "  fig.suptitle('Biểu đồ thống kê')\n",
        "\n",
        "  sns.countplot(ax=axes[0,0], data=data, x='gender')   #axes: vị trí tương ứng\n",
        "  sns.countplot(ax=axes[0,1], data=data, x='age')   \n",
        "  sns.countplot(ax=axes[0,2], data=data, x='hypertension')\n",
        "  sns.countplot(ax=axes[1,0], data=data, x='heart_disease')\n",
        "  sns.countplot(ax=axes[1,1], data=data, x='ever_married')\n",
        "  sns.countplot(ax=axes[1,2], data=data, x='work_type')\n",
        "  sns.countplot(ax=axes[2,0], data=data, x='Residence_type')\n",
        "  sns.distplot(a=data['avg_glucose_level'], ax=axes[2,1], hist= True)\n",
        "  sns.distplot(a=data['bmi'], ax=axes[2,2], hist= True)\n",
        "  sns.countplot(ax=axes[3,0], data=data, x='smoking_status')\n",
        "  sns.countplot(ax=axes[3,1], data=data, x='blood')\n",
        "  sns.countplot(ax=axes[3,2], data=data, x='height')\n",
        "\n",
        "  #sns.distplot(a=data['height'], ax=axes[2,0], hist= True)\n",
        "\n",
        "  plt.show()"
      ],
      "execution_count": null,
      "outputs": []
    },
    {
      "cell_type": "code",
      "metadata": {
        "id": "CPFIyCwqlQZa",
        "colab": {
          "base_uri": "https://localhost:8080/",
          "height": 1000
        },
        "outputId": "f46a8dfd-3ae8-4129-d454-bb8969fbf43e"
      },
      "source": [
        "Chart(train)"
      ],
      "execution_count": null,
      "outputs": [
        {
          "output_type": "stream",
          "text": [
            "/usr/local/lib/python3.7/dist-packages/seaborn/distributions.py:2557: FutureWarning: `distplot` is a deprecated function and will be removed in a future version. Please adapt your code to use either `displot` (a figure-level function with similar flexibility) or `histplot` (an axes-level function for histograms).\n",
            "  warnings.warn(msg, FutureWarning)\n",
            "/usr/local/lib/python3.7/dist-packages/seaborn/distributions.py:2557: FutureWarning: `distplot` is a deprecated function and will be removed in a future version. Please adapt your code to use either `displot` (a figure-level function with similar flexibility) or `histplot` (an axes-level function for histograms).\n",
            "  warnings.warn(msg, FutureWarning)\n"
          ],
          "name": "stderr"
        },
        {
          "output_type": "display_data",
          "data": {
            "image/png": "[encoded data removed]",
            "text/plain": [
              "<Figure size 1080x1440 with 12 Axes>"
            ]
          },
          "metadata": {
            "tags": [],
            "needs_background": "light"
          }
        }
      ]
    },
    {
      "cell_type": "code",
      "metadata": {
        "colab": {
          "base_uri": "https://localhost:8080/",
          "height": 314
        },
        "id": "aK46qxn71IsY",
        "outputId": "59cf9ef5-2d92-4ee6-8979-8c98e4f8d517"
      },
      "source": [
        "sns.countplot(x='stroke', data=train)\n",
        "print('1: ',sum(train.stroke==1))\n",
        "print('0: ',sum(train.stroke==0))"
      ],
      "execution_count": null,
      "outputs": [
        {
          "output_type": "stream",
          "text": [
            "1:  130\n",
            "0:  3870\n"
          ],
          "name": "stdout"
        },
        {
          "output_type": "display_data",
          "data": {
            "image/png": "[encoded data removed]",
            "text/plain": [
              "<Figure size 432x288 with 1 Axes>"
            ]
          },
          "metadata": {
            "tags": []
          }
        }
      ]
    },
    {
      "cell_type": "code",
      "metadata": {
        "colab": {
          "base_uri": "https://localhost:8080/",
          "height": 1000
        },
        "id": "reEd2n03AYmj",
        "outputId": "818d7c10-d11b-45d7-cffb-1cc4e4926d48"
      },
      "source": [
        "Chart(test)"
      ],
      "execution_count": null,
      "outputs": [
        {
          "output_type": "stream",
          "text": [
            "/usr/local/lib/python3.7/dist-packages/seaborn/distributions.py:2557: FutureWarning: `distplot` is a deprecated function and will be removed in a future version. Please adapt your code to use either `displot` (a figure-level function with similar flexibility) or `histplot` (an axes-level function for histograms).\n",
            "  warnings.warn(msg, FutureWarning)\n",
            "/usr/local/lib/python3.7/dist-packages/seaborn/distributions.py:2557: FutureWarning: `distplot` is a deprecated function and will be removed in a future version. Please adapt your code to use either `displot` (a figure-level function with similar flexibility) or `histplot` (an axes-level function for histograms).\n",
            "  warnings.warn(msg, FutureWarning)\n"
          ],
          "name": "stderr"
        },
        {
          "output_type": "display_data",
          "data": {
            "image/png": "[encoded data removed]",
            "text/plain": [
              "<Figure size 1080x1440 with 12 Axes>"
            ]
          },
          "metadata": {
            "tags": []
          }
        }
      ]
    },
    {
      "cell_type": "markdown",
      "metadata": {
        "id": "VBTgXSceBp8K"
      },
      "source": [
        "Huấn luyện mô hình"
      ]
    },
    {
      "cell_type": "code",
      "metadata": {
        "colab": {
          "base_uri": "https://localhost:8080/"
        },
        "id": "9pWR1zT2Bubs",
        "outputId": "359eba0e-c70f-4023-e281-6edcfb429c6a"
      },
      "source": [
        "#Drop cột id\n",
        "train = train.drop(['id'], axis=1)\n",
        "train.info()"
      ],
      "execution_count": null,
      "outputs": [
        {
          "output_type": "stream",
          "text": [
            "<class 'pandas.core.frame.DataFrame'>\n",
            "RangeIndex: 4000 entries, 0 to 3999\n",
            "Data columns (total 13 columns):\n",
            " #   Column             Non-Null Count  Dtype  \n",
            "---  ------             --------------  -----  \n",
            " 0   gender             4000 non-null   object \n",
            " 1   age                3893 non-null   float64\n",
            " 2   hypertension       3770 non-null   float64\n",
            " 3   heart_disease      3910 non-null   float64\n",
            " 4   ever_married       4000 non-null   object \n",
            " 5   work_type          4000 non-null   object \n",
            " 6   Residence_type     4000 non-null   object \n",
            " 7   avg_glucose_level  3829 non-null   float64\n",
            " 8   bmi                2884 non-null   float64\n",
            " 9   smoking_status     4000 non-null   object \n",
            " 10  blood              3990 non-null   object \n",
            " 11  height             2928 non-null   float64\n",
            " 12  stroke             4000 non-null   int64  \n",
            "dtypes: float64(6), int64(1), object(6)\n",
            "memory usage: 406.4+ KB\n"
          ],
          "name": "stdout"
        }
      ]
    },
    {
      "cell_type": "code",
      "metadata": {
        "colab": {
          "base_uri": "https://localhost:8080/"
        },
        "id": "f2stjuphB6Nq",
        "outputId": "25af2ae2-e444-4a7b-9f54-17cc30da494c"
      },
      "source": [
        "#Xóa những cột có kiểu object\n",
        "object_columns = [i for i in train.keys() if train[i].dtypes == object]\n",
        "print(object_columns)\n",
        "\n",
        "train = train.drop(object_columns, axis=1)\n",
        "train.info()"
      ],
      "execution_count": null,
      "outputs": [
        {
          "output_type": "stream",
          "text": [
            "['gender', 'ever_married', 'work_type', 'Residence_type', 'smoking_status', 'blood']\n",
            "<class 'pandas.core.frame.DataFrame'>\n",
            "RangeIndex: 4000 entries, 0 to 3999\n",
            "Data columns (total 7 columns):\n",
            " #   Column             Non-Null Count  Dtype  \n",
            "---  ------             --------------  -----  \n",
            " 0   age                3893 non-null   float64\n",
            " 1   hypertension       3770 non-null   float64\n",
            " 2   heart_disease      3910 non-null   float64\n",
            " 3   avg_glucose_level  3829 non-null   float64\n",
            " 4   bmi                2884 non-null   float64\n",
            " 5   height             2928 non-null   float64\n",
            " 6   stroke             4000 non-null   int64  \n",
            "dtypes: float64(6), int64(1)\n",
            "memory usage: 218.9 KB\n"
          ],
          "name": "stdout"
        }
      ]
    },
    {
      "cell_type": "code",
      "metadata": {
        "colab": {
          "base_uri": "https://localhost:8080/"
        },
        "id": "6l9TJCayCybE",
        "outputId": "35ee5aa4-465e-4c80-add3-85cdca05d239"
      },
      "source": [
        "#Xóa những hàng có giá trị null\n",
        "train = train.dropna(axis=0)\n",
        "train.info()"
      ],
      "execution_count": null,
      "outputs": [
        {
          "output_type": "stream",
          "text": [
            "<class 'pandas.core.frame.DataFrame'>\n",
            "Int64Index: 1772 entries, 3 to 3999\n",
            "Data columns (total 7 columns):\n",
            " #   Column             Non-Null Count  Dtype  \n",
            "---  ------             --------------  -----  \n",
            " 0   age                1772 non-null   float64\n",
            " 1   hypertension       1772 non-null   float64\n",
            " 2   heart_disease      1772 non-null   float64\n",
            " 3   avg_glucose_level  1772 non-null   float64\n",
            " 4   bmi                1772 non-null   float64\n",
            " 5   height             1772 non-null   float64\n",
            " 6   stroke             1772 non-null   int64  \n",
            "dtypes: float64(6), int64(1)\n",
            "memory usage: 110.8 KB\n"
          ],
          "name": "stdout"
        }
      ]
    },
    {
      "cell_type": "markdown",
      "metadata": {
        "id": "Tg4AdyaEDrYr"
      },
      "source": [
        "Tập test"
      ]
    },
    {
      "cell_type": "code",
      "metadata": {
        "id": "x17OgrGbDuTo"
      },
      "source": [
        "#Lấy id \n",
        "get_id = np.array(test.id)"
      ],
      "execution_count": null,
      "outputs": []
    },
    {
      "cell_type": "code",
      "metadata": {
        "colab": {
          "base_uri": "https://localhost:8080/"
        },
        "id": "N5nTdxqDD4l4",
        "outputId": "cb9f5c9c-3efe-42d1-9e43-3eb21aaabdd7"
      },
      "source": [
        "#Drop id \n",
        "test = test.drop(['id'], axis=1)\n",
        "test.info()"
      ],
      "execution_count": null,
      "outputs": [
        {
          "output_type": "stream",
          "text": [
            "<class 'pandas.core.frame.DataFrame'>\n",
            "RangeIndex: 500 entries, 0 to 499\n",
            "Data columns (total 12 columns):\n",
            " #   Column             Non-Null Count  Dtype  \n",
            "---  ------             --------------  -----  \n",
            " 0   gender             500 non-null    object \n",
            " 1   age                489 non-null    float64\n",
            " 2   hypertension       455 non-null    float64\n",
            " 3   heart_disease      366 non-null    float64\n",
            " 4   ever_married       500 non-null    object \n",
            " 5   work_type          500 non-null    object \n",
            " 6   Residence_type     500 non-null    object \n",
            " 7   avg_glucose_level  494 non-null    float64\n",
            " 8   bmi                457 non-null    float64\n",
            " 9   smoking_status     500 non-null    object \n",
            " 10  blood              500 non-null    object \n",
            " 11  height             376 non-null    float64\n",
            "dtypes: float64(6), object(6)\n",
            "memory usage: 47.0+ KB\n"
          ],
          "name": "stdout"
        }
      ]
    },
    {
      "cell_type": "code",
      "metadata": {
        "colab": {
          "base_uri": "https://localhost:8080/"
        },
        "id": "aL_CO_DaEDuk",
        "outputId": "f5ef0a4b-2da1-42ef-df1b-c4aed2a9a9ab"
      },
      "source": [
        "#Xóa các cột object\n",
        "object_columns_test = [i for i in test.keys()\n",
        "                    if test[i].dtypes == object]\n",
        "print(object_columns_test)\n",
        "\n",
        "test = test.drop(object_columns_test, axis=1)\n",
        "test.info()"
      ],
      "execution_count": null,
      "outputs": [
        {
          "output_type": "stream",
          "text": [
            "['gender', 'ever_married', 'work_type', 'Residence_type', 'smoking_status', 'blood']\n",
            "<class 'pandas.core.frame.DataFrame'>\n",
            "RangeIndex: 500 entries, 0 to 499\n",
            "Data columns (total 6 columns):\n",
            " #   Column             Non-Null Count  Dtype  \n",
            "---  ------             --------------  -----  \n",
            " 0   age                489 non-null    float64\n",
            " 1   hypertension       455 non-null    float64\n",
            " 2   heart_disease      366 non-null    float64\n",
            " 3   avg_glucose_level  494 non-null    float64\n",
            " 4   bmi                457 non-null    float64\n",
            " 5   height             376 non-null    float64\n",
            "dtypes: float64(6)\n",
            "memory usage: 23.6 KB\n"
          ],
          "name": "stdout"
        }
      ]
    },
    {
      "cell_type": "markdown",
      "metadata": {
        "id": "JBaVlyTuJLRB"
      },
      "source": [
        "Không thể xóa giá trị null như tập train,vì sẽ làm mất dữ liệu. Cách làm là lấy trung bình"
      ]
    },
    {
      "cell_type": "code",
      "metadata": {
        "id": "OZYY-c1jFAjp"
      },
      "source": [
        "test['age'].fillna(value=test['age'].mean(), inplace=True)\n",
        "test['hypertension'].fillna(value=test['hypertension'].mean(), inplace=True)\n",
        "test['heart_disease'].fillna(value=test['heart_disease'].mean(), inplace=True)\n",
        "test['avg_glucose_level'].fillna(value=test['avg_glucose_level'].mean(), inplace=True)\n",
        "test['bmi'].fillna(value=test['bmi'].mean(), inplace=True)\n",
        "test['height'].fillna(value=test['height'].mean(), inplace=True)"
      ],
      "execution_count": null,
      "outputs": []
    },
    {
      "cell_type": "code",
      "metadata": {
        "colab": {
          "base_uri": "https://localhost:8080/"
        },
        "id": "RUTe3S5XKUuB",
        "outputId": "05c6a6dd-c7ae-4cd1-b6b6-816c272dcfcf"
      },
      "source": [
        "test.info()"
      ],
      "execution_count": null,
      "outputs": [
        {
          "output_type": "stream",
          "text": [
            "<class 'pandas.core.frame.DataFrame'>\n",
            "RangeIndex: 500 entries, 0 to 499\n",
            "Data columns (total 6 columns):\n",
            " #   Column             Non-Null Count  Dtype  \n",
            "---  ------             --------------  -----  \n",
            " 0   age                500 non-null    float64\n",
            " 1   hypertension       500 non-null    float64\n",
            " 2   heart_disease      500 non-null    float64\n",
            " 3   avg_glucose_level  500 non-null    float64\n",
            " 4   bmi                500 non-null    float64\n",
            " 5   height             500 non-null    float64\n",
            "dtypes: float64(6)\n",
            "memory usage: 23.6 KB\n"
          ],
          "name": "stdout"
        }
      ]
    },
    {
      "cell_type": "markdown",
      "metadata": {
        "id": "rt0rZthpLW7w"
      },
      "source": [
        "Xử lý mất cân bằng"
      ]
    },
    {
      "cell_type": "code",
      "metadata": {
        "colab": {
          "base_uri": "https://localhost:8080/"
        },
        "id": "ipInngeyKWq8",
        "outputId": "1a625783-363e-40dc-fa1f-f4a4863aac3a"
      },
      "source": [
        "#Drop stroke\n",
        "without_stroke_columns = train.keys()\n",
        "without_stroke_columns = without_stroke_columns.drop(['stroke'])\n",
        "print(without_stroke_columns)\n"
      ],
      "execution_count": null,
      "outputs": [
        {
          "output_type": "stream",
          "text": [
            "Index(['age', 'hypertension', 'heart_disease', 'avg_glucose_level', 'bmi',\n",
            "       'height'],\n",
            "      dtype='object')\n"
          ],
          "name": "stdout"
        }
      ]
    },
    {
      "cell_type": "code",
      "metadata": {
        "id": "nkLvq8CtMISB"
      },
      "source": [
        "X_train = train[without_stroke_columns]\n",
        "y_train = train.stroke\n",
        "\n",
        "X_test = test"
      ],
      "execution_count": null,
      "outputs": []
    },
    {
      "cell_type": "code",
      "metadata": {
        "id": "KvYWRvVesOOj"
      },
      "source": [
        "from sklearn.model_selection import KFold, cross_val_score, cross_val_predict\n",
        "from sklearn.metrics import f1_score"
      ],
      "execution_count": null,
      "outputs": []
    },
    {
      "cell_type": "code",
      "metadata": {
        "colab": {
          "base_uri": "https://localhost:8080/"
        },
        "id": "o1q6uSEQNL2-",
        "outputId": "dcba39f4-a028-493c-c9a0-df439ce15e15"
      },
      "source": [
        "#from imblearn.under_sampling import RandomUnderSampler  #Prototype selection: chọn nguyên mẫu\n",
        "from imblearn.under_sampling import ClusterCentroids   #Prototype generation: tạo nguyên mẫu\n",
        "\n",
        "ud = ClusterCentroids(random_state=0)\n",
        "#ud = RandomUnderSampler(sampling_strategy=0.3)\n",
        "\n",
        "X_train, y_train = ud.fit_sample(X_train, y_train)\n",
        "\n",
        "print(\"Sau khi Sampling, số lượng label '1': {}\".format(sum(y_train==1)))\n",
        "print(\"Sau khi Sampling, số lượng label '0': {}\".format(sum(y_train==0)))\n"
      ],
      "execution_count": null,
      "outputs": [
        {
          "output_type": "stream",
          "text": [
            "/usr/local/lib/python3.7/dist-packages/sklearn/externals/six.py:31: FutureWarning: The module is deprecated in version 0.21 and will be removed in version 0.23 since we've dropped support for Python 2.7. Please rely on the official version of six (https://pypi.org/project/six/).\n",
            "  \"(https://pypi.org/project/six/).\", FutureWarning)\n",
            "/usr/local/lib/python3.7/dist-packages/sklearn/utils/deprecation.py:144: FutureWarning: The sklearn.neighbors.base module is  deprecated in version 0.22 and will be removed in version 0.24. The corresponding classes / functions should instead be imported from sklearn.neighbors. Anything that cannot be imported from sklearn.neighbors is now part of the private API.\n",
            "  warnings.warn(message, FutureWarning)\n"
          ],
          "name": "stderr"
        },
        {
          "output_type": "stream",
          "text": [
            "Sau khi Sampling, số lượng label '1': 56\n",
            "Sau khi Sampling, số lượng label '0': 56\n"
          ],
          "name": "stdout"
        },
        {
          "output_type": "stream",
          "text": [
            "/usr/local/lib/python3.7/dist-packages/sklearn/utils/deprecation.py:87: FutureWarning: Function safe_indexing is deprecated; safe_indexing is deprecated in version 0.22 and will be removed in version 0.24.\n",
            "  warnings.warn(msg, category=FutureWarning)\n"
          ],
          "name": "stderr"
        }
      ]
    },
    {
      "cell_type": "code",
      "metadata": {
        "colab": {
          "base_uri": "https://localhost:8080/"
        },
        "id": "eE2kqoYwORbP",
        "outputId": "ef072645-152f-458b-9792-ce49cfee64b8"
      },
      "source": [
        "X_train"
      ],
      "execution_count": null,
      "outputs": [
        {
          "output_type": "execute_result",
          "data": {
            "text/plain": [
              "array([[ 5.05614035e+01,  8.77192982e-02,  7.01754386e-02,\n",
              "         7.67226316e+01,  2.91456140e+01,  1.66403509e+00],\n",
              "       [ 5.70000000e+01,  2.50000000e-01,  1.00000000e-01,\n",
              "         2.13434500e+02,  3.22100000e+01,  1.58200000e+00],\n",
              "       [ 1.87666667e+01, -4.16333634e-17,  4.16333634e-17,\n",
              "         1.25889000e+02,  3.02100000e+01,  1.64533333e+00],\n",
              "       [ 5.25510204e+01,  8.16326531e-02,  2.04081633e-02,\n",
              "         1.15284694e+02,  2.83326531e+01,  1.68755102e+00],\n",
              "       [ 7.23541667e+01,  1.66666667e-01,  1.45833333e-01,\n",
              "         9.30885417e+01,  2.90750000e+01,  1.66937500e+00],\n",
              "       [ 2.19148936e+01, -5.55111512e-17,  1.38777878e-17,\n",
              "         9.61423404e+01,  2.71702128e+01,  1.72659574e+00],\n",
              "       [ 3.80769231e+01,  1.53846154e-01,  0.00000000e+00,\n",
              "         1.66366923e+02,  3.30769231e+01,  1.56615385e+00],\n",
              "       [ 2.05238095e+01, -2.77555756e-17,  2.08166817e-17,\n",
              "         7.13104762e+01,  4.15190476e+01,  1.39523810e+00],\n",
              "       [ 6.12452830e+01,  9.43396226e-02,  9.43396226e-02,\n",
              "         6.21737736e+01,  2.92169811e+01,  1.66301887e+00],\n",
              "       [ 3.83823529e+01,  4.41176471e-02, -2.77555756e-17,\n",
              "         8.27314706e+01,  2.99529412e+01,  1.64500000e+00],\n",
              "       [ 7.70000000e+01,  2.22222222e-01,  2.22222222e-01,\n",
              "         2.34967778e+02,  2.89111111e+01,  1.67500000e+00],\n",
              "       [ 7.00769231e+01,  1.53846154e-01,  2.30769231e-01,\n",
              "         1.47424615e+02,  3.00538462e+01,  1.64461538e+00],\n",
              "       [ 3.77111111e+01,  2.22222222e-02,  2.08166817e-17,\n",
              "         7.06571111e+01,  3.01288889e+01,  1.64022222e+00],\n",
              "       [ 3.43555556e+01,  4.44444444e-02,  2.08166817e-17,\n",
              "         9.31426667e+01,  2.93088889e+01,  1.66088889e+00],\n",
              "       [ 5.74166667e+01,  2.22222222e-01,  5.55555556e-02,\n",
              "         7.93886111e+01,  3.63222222e+01,  1.48888889e+00],\n",
              "       [ 2.04545455e+01, -1.38777878e-17,  0.00000000e+00,\n",
              "         1.90999091e+02,  3.17181818e+01,  1.61818182e+00],\n",
              "       [ 5.13500000e+01,  3.00000000e-01,  1.38777878e-17,\n",
              "         2.10038500e+02,  4.61750000e+01,  1.32800000e+00],\n",
              "       [ 5.78695652e+01,  1.73913043e-01,  1.30434783e-01,\n",
              "         2.35880000e+02,  3.57782609e+01,  1.50782609e+00],\n",
              "       [ 4.51875000e+01,  1.56250000e-01,  3.12500000e-02,\n",
              "         9.12750000e+01,  3.87250000e+01,  1.44062500e+00],\n",
              "       [ 4.24615385e+01,  7.69230769e-02,  3.46944695e-17,\n",
              "         1.40031923e+02,  3.33423077e+01,  1.56769231e+00],\n",
              "       [ 7.02790698e+01,  3.02325581e-01,  4.65116279e-02,\n",
              "         1.09723721e+02,  3.04186047e+01,  1.63209302e+00],\n",
              "       [ 7.73863636e+01,  1.59090909e-01,  2.04545455e-01,\n",
              "         7.91977273e+01,  2.98045455e+01,  1.64500000e+00],\n",
              "       [ 3.62000000e+01,  1.00000000e-01,  4.16333634e-17,\n",
              "         1.22232667e+02,  2.90433333e+01,  1.67300000e+00],\n",
              "       [ 5.29333333e+01,  2.66666667e-01,  6.66666667e-02,\n",
              "         1.89248000e+02,  4.41466667e+01,  1.35466667e+00],\n",
              "       [ 1.48000000e+01, -4.16333634e-17,  3.33333333e-02,\n",
              "         6.89490000e+01,  2.66033333e+01,  1.74100000e+00],\n",
              "       [ 7.24736842e+01,  3.68421053e-01,  4.21052632e-01,\n",
              "         1.95401579e+02,  2.97000000e+01,  1.64789474e+00],\n",
              "       [ 5.82537313e+01,  1.49253731e-01,  1.49253731e-02,\n",
              "         9.74397015e+01,  2.96477612e+01,  1.65283582e+00],\n",
              "       [ 1.36897297e+01, -4.16333634e-17,  4.85722573e-17,\n",
              "         8.57245946e+01,  2.64243243e+01,  1.74594595e+00],\n",
              "       [ 6.82222222e+01,  2.22222222e-01,  6.93889390e-18,\n",
              "         2.55055556e+02,  2.92333333e+01,  1.66000000e+00],\n",
              "       [ 3.30714286e+01,  1.42857143e-01,  0.00000000e+00,\n",
              "         8.52078571e+01,  4.82500000e+01,  1.29428571e+00],\n",
              "       [ 4.84250000e+01,  5.00000000e-02,  3.46944695e-17,\n",
              "         6.30077500e+01,  2.79550000e+01,  1.69900000e+00],\n",
              "       [ 5.37692308e+01,  2.30769231e-01,  0.00000000e+00,\n",
              "         1.58952308e+02,  2.80076923e+01,  1.69461538e+00],\n",
              "       [ 2.11333333e+01, -2.77555756e-17,  0.00000000e+00,\n",
              "         1.48306667e+02,  2.72533333e+01,  1.72000000e+00],\n",
              "       [ 2.00000000e+01,  1.00000000e+00,  0.00000000e+00,\n",
              "         6.58500000e+01,  8.78000000e+01,  9.60000000e-01],\n",
              "       [ 3.62307692e+01,  1.53846154e-01,  0.00000000e+00,\n",
              "         2.18920769e+02,  3.44692308e+01,  1.54538462e+00],\n",
              "       [ 6.25689655e+01,  1.20689655e-01,  3.44827586e-02,\n",
              "         7.97496552e+01,  2.81465517e+01,  1.69103448e+00],\n",
              "       [ 3.17222222e+01,  1.11111111e-01,  6.93889390e-18,\n",
              "         1.07324444e+02,  4.50111111e+01,  1.33944444e+00],\n",
              "       [ 2.72121212e+01,  6.06060606e-02,  4.85722573e-17,\n",
              "         1.09079091e+02,  2.96363636e+01,  1.65575758e+00],\n",
              "       [ 7.55111111e+01,  2.00000000e-01,  2.22222222e-01,\n",
              "         6.34660000e+01,  2.94200000e+01,  1.66266667e+00],\n",
              "       [ 4.33571429e+01,  5.35714286e-02,  1.78571429e-02,\n",
              "         1.03529643e+02,  2.92464286e+01,  1.66392857e+00],\n",
              "       [ 3.04594595e+01, -4.16333634e-17,  4.85722573e-17,\n",
              "         6.14732432e+01,  2.93702703e+01,  1.66378378e+00],\n",
              "       [ 2.42500000e+01,  3.57142857e-02,  4.16333634e-17,\n",
              "         8.73389286e+01,  3.55142857e+01,  1.50607143e+00],\n",
              "       [ 4.11935484e+01,  1.29032258e-01,  3.22580645e-02,\n",
              "         7.42651613e+01,  4.47516129e+01,  1.34483871e+00],\n",
              "       [ 4.92307692e+01,  1.53846154e-01,  3.84615385e-02,\n",
              "         1.11088846e+02,  4.46615385e+01,  1.34884615e+00],\n",
              "       [ 6.41333333e+01,  3.00000000e-01,  6.66666667e-02,\n",
              "         9.11796667e+01,  4.14333333e+01,  1.39500000e+00],\n",
              "       [ 7.87200000e+01,  1.60000000e-01,  3.20000000e-01,\n",
              "         1.02257600e+02,  2.86960000e+01,  1.67720000e+00],\n",
              "       [ 6.74666667e+01,  2.00000000e-01,  6.66666667e-02,\n",
              "         2.24862000e+02,  4.36600000e+01,  1.36133333e+00],\n",
              "       [ 1.35769231e+01, -4.16333634e-17,  3.46944695e-17,\n",
              "         1.09973846e+02,  2.83307692e+01,  1.68961538e+00],\n",
              "       [ 5.09166667e+01,  2.50000000e-01,  0.00000000e+00,\n",
              "         1.91375833e+02,  2.75250000e+01,  1.70750000e+00],\n",
              "       [ 7.73333333e+01,  4.66666667e-01,  2.66666667e-01,\n",
              "         2.17274000e+02,  2.93866667e+01,  1.65866667e+00],\n",
              "       [ 6.32608696e+01,  8.69565217e-02,  4.34782609e-02,\n",
              "         1.30045652e+02,  3.09086957e+01,  1.62173913e+00],\n",
              "       [ 5.05614035e+01,  7.01754386e-02,  3.50877193e-02,\n",
              "         8.94826316e+01,  2.86912281e+01,  1.67596491e+00],\n",
              "       [ 5.20400000e+01,  1.20000000e-01,  3.46944695e-17,\n",
              "         6.35436000e+01,  3.98840000e+01,  1.42120000e+00],\n",
              "       [ 7.45714286e+01,  4.28571429e-01,  2.14285714e-01,\n",
              "         1.74344286e+02,  3.23928571e+01,  1.58857143e+00],\n",
              "       [ 2.70000000e+01, -5.55111512e-17,  6.93889390e-18,\n",
              "         7.77800000e+01,  2.84078431e+01,  1.68549020e+00],\n",
              "       [ 7.16400000e+01,  2.40000000e-01,  3.20000000e-01,\n",
              "         2.04674800e+02,  3.37560000e+01,  1.55400000e+00],\n",
              "       [ 8.20000000e+01,  1.00000000e+00,  1.00000000e+00,\n",
              "         8.40300000e+01,  2.65000000e+01,  1.74000000e+00],\n",
              "       [ 7.90000000e+01,  1.00000000e+00,  0.00000000e+00,\n",
              "         1.74120000e+02,  2.40000000e+01,  1.83000000e+00],\n",
              "       [ 7.10000000e+01,  0.00000000e+00,  0.00000000e+00,\n",
              "         1.02870000e+02,  2.72000000e+01,  1.71000000e+00],\n",
              "       [ 7.90000000e+01,  0.00000000e+00,  1.00000000e+00,\n",
              "         2.14090000e+02,  2.82000000e+01,  1.68000000e+00],\n",
              "       [ 7.70000000e+01,  0.00000000e+00,  0.00000000e+00,\n",
              "         1.05220000e+02,  3.10000000e+01,  1.61000000e+00],\n",
              "       [ 7.40000000e+01,  0.00000000e+00,  0.00000000e+00,\n",
              "         7.29600000e+01,  3.13000000e+01,  1.60000000e+00],\n",
              "       [ 6.70000000e+01,  0.00000000e+00,  1.00000000e+00,\n",
              "         2.28690000e+02,  3.66000000e+01,  1.68000000e+00],\n",
              "       [ 5.40000000e+01,  0.00000000e+00,  0.00000000e+00,\n",
              "         1.91820000e+02,  4.04000000e+01,  1.41000000e+00],\n",
              "       [ 6.10000000e+01,  0.00000000e+00,  1.00000000e+00,\n",
              "         1.20460000e+02,  3.68000000e+01,  1.47000000e+00],\n",
              "       [ 8.10000000e+01,  1.00000000e+00,  0.00000000e+00,\n",
              "         8.04300000e+01,  2.97000000e+01,  1.64000000e+00],\n",
              "       [ 5.40000000e+01,  0.00000000e+00,  0.00000000e+00,\n",
              "         1.04510000e+02,  2.73000000e+01,  1.71000000e+00],\n",
              "       [ 6.40000000e+01,  0.00000000e+00,  1.00000000e+00,\n",
              "         7.41000000e+01,  2.88000000e+01,  1.67000000e+00],\n",
              "       [ 8.00000000e+01,  0.00000000e+00,  0.00000000e+00,\n",
              "         2.59630000e+02,  3.17000000e+01,  1.59000000e+00],\n",
              "       [ 5.20000000e+01,  1.00000000e+00,  0.00000000e+00,\n",
              "         2.33290000e+02,  4.89000000e+01,  1.78000000e+00],\n",
              "       [ 4.80000000e+01,  0.00000000e+00,  0.00000000e+00,\n",
              "         8.42000000e+01,  2.97000000e+01,  1.64000000e+00],\n",
              "       [ 6.00000000e+01,  0.00000000e+00,  0.00000000e+00,\n",
              "         8.92200000e+01,  3.78000000e+01,  1.65000000e+00],\n",
              "       [ 7.90000000e+01,  0.00000000e+00,  1.00000000e+00,\n",
              "         2.26980000e+02,  2.98000000e+01,  1.64000000e+00],\n",
              "       [ 7.90000000e+01,  0.00000000e+00,  0.00000000e+00,\n",
              "         9.30500000e+01,  2.42000000e+01,  1.82000000e+00],\n",
              "       [ 8.00000000e+01,  0.00000000e+00,  1.00000000e+00,\n",
              "         1.05920000e+02,  3.25000000e+01,  1.57000000e+00],\n",
              "       [ 3.80000000e+01,  0.00000000e+00,  0.00000000e+00,\n",
              "         8.22800000e+01,  2.40000000e+01,  1.83000000e+00],\n",
              "       [ 5.70000000e+01,  0.00000000e+00,  0.00000000e+00,\n",
              "         1.10520000e+02,  2.85000000e+01,  1.68000000e+00],\n",
              "       [ 4.20000000e+01,  0.00000000e+00,  0.00000000e+00,\n",
              "         8.34100000e+01,  2.54000000e+01,  1.77000000e+00],\n",
              "       [ 7.50000000e+01,  1.00000000e+00,  0.00000000e+00,\n",
              "         2.21290000e+02,  2.58000000e+01,  1.76000000e+00],\n",
              "       [ 8.20000000e+01,  0.00000000e+00,  0.00000000e+00,\n",
              "         2.00590000e+02,  2.90000000e+01,  1.66000000e+00],\n",
              "       [ 6.50000000e+01,  0.00000000e+00,  0.00000000e+00,\n",
              "         1.00980000e+02,  2.82000000e+01,  1.68000000e+00],\n",
              "       [ 4.50000000e+01,  0.00000000e+00,  0.00000000e+00,\n",
              "         2.24100000e+02,  5.66000000e+01,  1.19000000e+00],\n",
              "       [ 5.00000000e+01,  1.00000000e+00,  0.00000000e+00,\n",
              "         7.31800000e+01,  3.03000000e+01,  1.62000000e+00],\n",
              "       [ 5.70000000e+01,  1.00000000e+00,  0.00000000e+00,\n",
              "         2.12080000e+02,  4.42000000e+01,  1.65000000e+00],\n",
              "       [ 5.60000000e+01,  1.00000000e+00,  0.00000000e+00,\n",
              "         2.49310000e+02,  3.58000000e+01,  1.49000000e+00],\n",
              "       [ 7.40000000e+01,  0.00000000e+00,  0.00000000e+00,\n",
              "         2.31610000e+02,  3.46000000e+01,  1.52000000e+00],\n",
              "       [ 7.40000000e+01,  0.00000000e+00,  0.00000000e+00,\n",
              "         2.19720000e+02,  3.37000000e+01,  1.54000000e+00],\n",
              "       [ 5.80000000e+01,  0.00000000e+00,  0.00000000e+00,\n",
              "         9.26200000e+01,  3.20000000e+01,  1.58000000e+00],\n",
              "       [ 8.00000000e+01,  0.00000000e+00,  1.00000000e+00,\n",
              "         6.85300000e+01,  2.42000000e+01,  1.82000000e+00],\n",
              "       [ 7.20000000e+01,  0.00000000e+00,  0.00000000e+00,\n",
              "         1.31410000e+02,  2.84000000e+01,  1.68000000e+00],\n",
              "       [ 8.10000000e+01,  0.00000000e+00,  0.00000000e+00,\n",
              "         7.28100000e+01,  2.63000000e+01,  1.74000000e+00],\n",
              "       [ 7.10000000e+01,  1.00000000e+00,  1.00000000e+00,\n",
              "         2.16940000e+02,  3.09000000e+01,  1.61000000e+00],\n",
              "       [ 7.40000000e+01,  1.00000000e+00,  1.00000000e+00,\n",
              "         7.00900000e+01,  2.74000000e+01,  1.71000000e+00],\n",
              "       [ 8.00000000e+01,  0.00000000e+00,  1.00000000e+00,\n",
              "         2.52720000e+02,  3.05000000e+01,  1.62000000e+00],\n",
              "       [ 6.90000000e+01,  0.00000000e+00,  1.00000000e+00,\n",
              "         1.95230000e+02,  2.83000000e+01,  1.68000000e+00],\n",
              "       [ 6.40000000e+01,  0.00000000e+00,  1.00000000e+00,\n",
              "         1.91610000e+02,  3.75000000e+01,  1.46000000e+00],\n",
              "       [ 8.10000000e+01,  0.00000000e+00,  0.00000000e+00,\n",
              "         1.86210000e+02,  2.90000000e+01,  1.66000000e+00],\n",
              "       [ 5.00000000e+01,  1.00000000e+00,  0.00000000e+00,\n",
              "         1.67410000e+02,  3.09000000e+01,  1.61000000e+00],\n",
              "       [ 5.30000000e+01,  0.00000000e+00,  0.00000000e+00,\n",
              "         6.41700000e+01,  4.15000000e+01,  1.39000000e+00],\n",
              "       [ 4.90000000e+01,  0.00000000e+00,  0.00000000e+00,\n",
              "         1.71230000e+02,  3.44000000e+01,  1.52000000e+00],\n",
              "       [ 7.80000000e+01,  0.00000000e+00,  0.00000000e+00,\n",
              "         5.85700000e+01,  2.42000000e+01,  1.82000000e+00],\n",
              "       [ 6.10000000e+01,  1.00000000e+00,  0.00000000e+00,\n",
              "         7.61100000e+01,  2.73000000e+01,  1.71000000e+00],\n",
              "       [ 4.90000000e+01,  0.00000000e+00,  0.00000000e+00,\n",
              "         6.09100000e+01,  2.99000000e+01,  1.64000000e+00],\n",
              "       [ 7.70000000e+01,  0.00000000e+00,  0.00000000e+00,\n",
              "         1.90320000e+02,  3.14000000e+01,  1.60000000e+00],\n",
              "       [ 8.20000000e+01,  0.00000000e+00,  1.00000000e+00,\n",
              "         2.08300000e+02,  3.25000000e+01,  1.57000000e+00],\n",
              "       [ 5.70000000e+01,  0.00000000e+00,  0.00000000e+00,\n",
              "         6.80200000e+01,  3.75000000e+01,  1.46000000e+00],\n",
              "       [ 7.90000000e+01,  0.00000000e+00,  0.00000000e+00,\n",
              "         2.28700000e+02,  2.66000000e+01,  1.73000000e+00],\n",
              "       [ 5.80000000e+01,  0.00000000e+00,  0.00000000e+00,\n",
              "         5.98600000e+01,  2.80000000e+01,  1.69000000e+00],\n",
              "       [ 8.00000000e+01,  0.00000000e+00,  0.00000000e+00,\n",
              "         1.04120000e+02,  2.35000000e+01,  1.85000000e+00],\n",
              "       [ 8.00000000e+01,  0.00000000e+00,  0.00000000e+00,\n",
              "         7.35400000e+01,  2.40000000e+01,  1.83000000e+00],\n",
              "       [ 6.80000000e+01,  0.00000000e+00,  0.00000000e+00,\n",
              "         8.21000000e+01,  2.71000000e+01,  1.72000000e+00],\n",
              "       [ 5.30000000e+01,  1.00000000e+00,  0.00000000e+00,\n",
              "         6.25500000e+01,  3.03000000e+01,  1.62000000e+00]])"
            ]
          },
          "metadata": {
            "tags": []
          },
          "execution_count": 25
        }
      ]
    },
    {
      "cell_type": "markdown",
      "metadata": {
        "id": "1-0GHCBEg_3Z"
      },
      "source": [
        "Logistic Regression"
      ]
    },
    {
      "cell_type": "code",
      "metadata": {
        "id": "0LwVDcC-P0Xk",
        "colab": {
          "base_uri": "https://localhost:8080/"
        },
        "outputId": "3ddd5852-d7b8-4a62-d552-604a22c76b0e"
      },
      "source": [
        "from sklearn.linear_model import LogisticRegression\n",
        "\n",
        "model_logistic = LogisticRegression()\n",
        "model_logistic.fit(X_train, y_train)\n",
        "\n",
        "y_pred_logistic = model_logistic.predict(X_test)"
      ],
      "execution_count": null,
      "outputs": [
        {
          "output_type": "stream",
          "text": [
            "/usr/local/lib/python3.7/dist-packages/sklearn/linear_model/_logistic.py:940: ConvergenceWarning: lbfgs failed to converge (status=1):\n",
            "STOP: TOTAL NO. of ITERATIONS REACHED LIMIT.\n",
            "\n",
            "Increase the number of iterations (max_iter) or scale the data as shown in:\n",
            "    https://scikit-learn.org/stable/modules/preprocessing.html\n",
            "Please also refer to the documentation for alternative solver options:\n",
            "    https://scikit-learn.org/stable/modules/linear_model.html#logistic-regression\n",
            "  extra_warning_msg=_LOGISTIC_SOLVER_CONVERGENCE_MSG)\n"
          ],
          "name": "stderr"
        }
      ]
    },
    {
      "cell_type": "code",
      "metadata": {
        "colab": {
          "base_uri": "https://localhost:8080/"
        },
        "id": "ns2haDcWQS7D",
        "outputId": "bf7ab989-48a0-4a24-c680-fedb5b50c175"
      },
      "source": [
        "y_pred_logistic"
      ],
      "execution_count": null,
      "outputs": [
        {
          "output_type": "execute_result",
          "data": {
            "text/plain": [
              "array([0, 1, 0, 1, 0, 0, 0, 0, 0, 0, 1, 0, 0, 0, 0, 1, 1, 1, 0, 1, 1, 1,\n",
              "       0, 0, 0, 1, 0, 0, 0, 0, 0, 0, 1, 0, 0, 0, 1, 0, 1, 0, 0, 0, 0, 0,\n",
              "       0, 0, 0, 0, 1, 0, 1, 0, 0, 0, 0, 0, 0, 0, 0, 0, 0, 0, 1, 0, 0, 0,\n",
              "       0, 1, 0, 0, 1, 1, 0, 0, 0, 1, 1, 0, 1, 1, 0, 1, 0, 0, 0, 0, 0, 0,\n",
              "       0, 0, 0, 0, 0, 0, 0, 0, 0, 0, 1, 0, 0, 1, 0, 0, 1, 0, 0, 0, 0, 1,\n",
              "       0, 0, 1, 0, 0, 1, 0, 0, 0, 1, 0, 0, 0, 0, 0, 0, 0, 1, 1, 0, 0, 0,\n",
              "       0, 1, 0, 1, 0, 0, 0, 0, 0, 0, 1, 1, 0, 0, 0, 0, 1, 0, 0, 0, 1, 0,\n",
              "       1, 0, 0, 1, 0, 0, 0, 0, 0, 0, 1, 0, 0, 0, 0, 0, 0, 0, 0, 0, 0, 0,\n",
              "       0, 0, 0, 0, 1, 0, 0, 0, 0, 1, 0, 0, 0, 0, 0, 1, 0, 0, 0, 1, 0, 0,\n",
              "       0, 1, 0, 0, 0, 1, 1, 0, 1, 0, 1, 0, 1, 0, 1, 1, 1, 0, 0, 1, 0, 0,\n",
              "       0, 0, 1, 1, 0, 0, 0, 0, 1, 0, 0, 0, 0, 1, 0, 0, 0, 1, 0, 0, 0, 0,\n",
              "       0, 0, 0, 1, 0, 0, 1, 0, 1, 0, 1, 0, 1, 0, 0, 0, 0, 1, 0, 0, 0, 0,\n",
              "       1, 1, 0, 0, 1, 1, 1, 0, 0, 0, 1, 0, 0, 0, 1, 0, 0, 0, 0, 1, 0, 0,\n",
              "       1, 1, 0, 0, 0, 0, 0, 1, 0, 0, 0, 1, 0, 1, 1, 1, 0, 0, 1, 0, 1, 0,\n",
              "       1, 1, 1, 0, 1, 1, 0, 0, 0, 0, 0, 0, 0, 0, 0, 0, 0, 0, 0, 0, 1, 0,\n",
              "       1, 0, 0, 1, 0, 1, 1, 0, 0, 0, 0, 0, 0, 0, 0, 0, 1, 0, 0, 0, 1, 1,\n",
              "       0, 0, 0, 1, 0, 0, 0, 0, 0, 0, 1, 0, 1, 0, 0, 0, 0, 0, 0, 1, 0, 1,\n",
              "       0, 0, 0, 0, 1, 0, 0, 0, 0, 1, 0, 0, 0, 0, 1, 0, 1, 0, 0, 0, 1, 0,\n",
              "       1, 1, 0, 1, 0, 1, 0, 0, 0, 0, 1, 0, 1, 0, 0, 0, 0, 0, 0, 0, 1, 0,\n",
              "       0, 1, 0, 1, 0, 0, 0, 0, 0, 0, 0, 1, 1, 1, 1, 0, 0, 0, 0, 0, 0, 0,\n",
              "       0, 0, 0, 0, 0, 0, 0, 1, 0, 1, 0, 0, 0, 0, 0, 1, 0, 1, 0, 0, 0, 0,\n",
              "       0, 1, 0, 0, 0, 0, 0, 1, 1, 0, 0, 0, 1, 0, 1, 0, 0, 0, 0, 0, 0, 1,\n",
              "       0, 1, 1, 0, 0, 1, 0, 0, 0, 0, 1, 0, 0, 0, 0, 0])"
            ]
          },
          "metadata": {
            "tags": []
          },
          "execution_count": 27
        }
      ]
    },
    {
      "cell_type": "code",
      "metadata": {
        "colab": {
          "base_uri": "https://localhost:8080/"
        },
        "id": "L2vZo4v5kceG",
        "outputId": "5c5c2a6b-b9c3-4f52-9cc4-f4f06f990a99"
      },
      "source": [
        "print(\"f1 score:\", round(f1_score(y_train, y_pred_logistic), 4))"
      ],
      "execution_count": null,
      "outputs": [
        {
          "output_type": "stream",
          "text": [
            "f1 score: 0.6606\n"
          ],
          "name": "stdout"
        }
      ]
    },
    {
      "cell_type": "markdown",
      "metadata": {
        "id": "iTAT_0MAhEgA"
      },
      "source": [
        "Support Vector Machine"
      ]
    },
    {
      "cell_type": "code",
      "metadata": {
        "id": "-a5GzemzQy6z"
      },
      "source": [
        "from sklearn.pipeline import Pipeline\n",
        "from sklearn.preprocessing import StandardScaler\n",
        "from sklearn.svm import LinearSVC\n",
        "\n",
        "model_svm = Pipeline([\n",
        " (\"scaler\", StandardScaler()),\n",
        " (\"linear_svc\", LinearSVC(C=10, loss=\"hinge\", max_iter = 1000000)),\n",
        " ])\n",
        "model_svm.fit(X_train, y_train)\n",
        "\n",
        "y_pred_svm = model_svm.predict(X_test)\n",
        "\n"
      ],
      "execution_count": null,
      "outputs": []
    },
    {
      "cell_type": "code",
      "metadata": {
        "colab": {
          "base_uri": "https://localhost:8080/"
        },
        "id": "xAQyP6rqhQK-",
        "outputId": "4429826d-e284-46bd-fa0a-4a5387847808"
      },
      "source": [
        "y_pred_svm"
      ],
      "execution_count": null,
      "outputs": [
        {
          "output_type": "execute_result",
          "data": {
            "text/plain": [
              "array([0, 1, 0, 1, 0, 0, 0, 0, 1, 0, 1, 0, 0, 0, 1, 0, 1, 1, 0, 1, 1, 1,\n",
              "       0, 0, 0, 1, 0, 0, 0, 0, 0, 0, 1, 0, 0, 0, 1, 0, 1, 0, 0, 1, 0, 0,\n",
              "       1, 0, 0, 0, 1, 0, 1, 0, 0, 0, 0, 0, 0, 0, 0, 0, 0, 0, 1, 0, 0, 0,\n",
              "       0, 1, 0, 0, 1, 1, 0, 0, 0, 1, 1, 0, 1, 1, 0, 1, 0, 1, 0, 0, 0, 0,\n",
              "       1, 0, 1, 0, 0, 0, 1, 0, 0, 0, 1, 0, 0, 1, 0, 0, 1, 0, 0, 0, 0, 1,\n",
              "       0, 0, 1, 1, 0, 1, 0, 0, 0, 1, 0, 0, 0, 0, 0, 0, 0, 1, 1, 0, 0, 0,\n",
              "       0, 1, 1, 1, 0, 0, 0, 0, 0, 0, 1, 1, 0, 0, 0, 0, 1, 0, 0, 0, 1, 0,\n",
              "       1, 0, 0, 1, 0, 0, 0, 0, 0, 0, 1, 0, 0, 0, 0, 0, 0, 0, 0, 0, 0, 0,\n",
              "       0, 0, 0, 0, 1, 0, 0, 0, 0, 1, 1, 1, 0, 0, 0, 0, 0, 0, 0, 1, 0, 1,\n",
              "       0, 1, 0, 0, 0, 1, 1, 0, 1, 0, 1, 0, 0, 1, 1, 1, 1, 0, 0, 1, 0, 0,\n",
              "       0, 0, 1, 0, 0, 0, 0, 0, 1, 0, 1, 0, 0, 1, 0, 0, 0, 0, 0, 1, 0, 0,\n",
              "       0, 0, 0, 1, 0, 0, 1, 0, 1, 0, 1, 0, 1, 0, 0, 0, 0, 1, 0, 0, 0, 0,\n",
              "       1, 1, 0, 0, 1, 1, 1, 0, 0, 0, 1, 0, 0, 0, 0, 0, 0, 0, 0, 1, 0, 0,\n",
              "       1, 0, 0, 0, 0, 0, 0, 1, 1, 0, 0, 1, 0, 1, 1, 1, 0, 0, 1, 0, 0, 0,\n",
              "       1, 1, 1, 0, 1, 1, 0, 0, 0, 0, 0, 0, 0, 0, 0, 0, 0, 0, 0, 0, 1, 0,\n",
              "       1, 0, 0, 0, 0, 1, 1, 0, 0, 0, 0, 0, 0, 0, 0, 0, 1, 1, 0, 0, 1, 1,\n",
              "       0, 0, 1, 0, 0, 0, 0, 0, 0, 0, 1, 0, 1, 0, 0, 0, 0, 0, 0, 1, 0, 1,\n",
              "       0, 0, 0, 0, 1, 0, 0, 0, 0, 1, 0, 1, 0, 0, 1, 0, 1, 1, 0, 0, 1, 0,\n",
              "       1, 1, 0, 1, 0, 1, 0, 0, 0, 0, 1, 0, 1, 0, 0, 0, 0, 0, 0, 0, 1, 0,\n",
              "       0, 1, 0, 1, 0, 0, 0, 0, 0, 0, 0, 1, 1, 1, 1, 0, 0, 0, 0, 0, 1, 0,\n",
              "       0, 0, 0, 0, 0, 0, 0, 1, 0, 1, 0, 1, 0, 0, 0, 1, 0, 1, 0, 0, 0, 0,\n",
              "       0, 1, 0, 0, 0, 0, 0, 0, 1, 0, 0, 0, 1, 0, 0, 0, 0, 0, 0, 0, 0, 1,\n",
              "       0, 1, 1, 0, 0, 1, 0, 0, 0, 0, 0, 0, 0, 0, 0, 0])"
            ]
          },
          "metadata": {
            "tags": []
          },
          "execution_count": 30
        }
      ]
    },
    {
      "cell_type": "code",
      "metadata": {
        "colab": {
          "base_uri": "https://localhost:8080/"
        },
        "id": "WAjGn2SylCVX",
        "outputId": "208425d7-25ed-40f8-f268-7b4893b0a908"
      },
      "source": [
        "y_pred_svm = cross_val_predict(model_svm, X_train, y_train, cv=3)\n",
        "\n",
        "print(\"f1 score:\", round(f1_score(y_train, y_pred_svm), 4))"
      ],
      "execution_count": null,
      "outputs": [
        {
          "output_type": "stream",
          "text": [
            "f1 score: 0.7027\n"
          ],
          "name": "stdout"
        }
      ]
    },
    {
      "cell_type": "markdown",
      "metadata": {
        "id": "FBTooQ8AhSYx"
      },
      "source": [
        "Decision Tree"
      ]
    },
    {
      "cell_type": "code",
      "metadata": {
        "id": "DBP904KVhQ6d"
      },
      "source": [
        "from sklearn.tree import DecisionTreeClassifier\n",
        "\n",
        "model_tree = DecisionTreeClassifier()\n",
        "model_tree.fit(X_train, y_train)\n",
        "\n",
        "y_pred_tree = model_tree.predict(X_test)"
      ],
      "execution_count": null,
      "outputs": []
    },
    {
      "cell_type": "code",
      "metadata": {
        "colab": {
          "base_uri": "https://localhost:8080/"
        },
        "id": "Z_pPnIAOhXU9",
        "outputId": "8d9f862f-86d3-43a6-9341-e17f8b3a0450"
      },
      "source": [
        "y_pred_tree"
      ],
      "execution_count": null,
      "outputs": [
        {
          "output_type": "execute_result",
          "data": {
            "text/plain": [
              "array([0, 1, 0, 1, 0, 0, 0, 0, 1, 0, 1, 0, 0, 0, 1, 1, 1, 0, 1, 0, 1, 1,\n",
              "       0, 1, 1, 1, 0, 1, 0, 0, 0, 1, 1, 0, 0, 1, 1, 1, 1, 1, 1, 0, 0, 0,\n",
              "       1, 0, 0, 1, 1, 0, 1, 1, 1, 1, 0, 1, 0, 0, 0, 0, 1, 1, 1, 0, 1, 1,\n",
              "       0, 0, 0, 0, 1, 1, 1, 0, 0, 1, 1, 0, 1, 1, 0, 1, 1, 0, 0, 0, 1, 1,\n",
              "       1, 0, 1, 1, 1, 1, 0, 1, 0, 1, 1, 1, 0, 1, 1, 0, 1, 0, 0, 1, 0, 0,\n",
              "       0, 1, 1, 0, 0, 1, 0, 0, 0, 1, 1, 1, 0, 1, 0, 0, 0, 1, 1, 1, 1, 1,\n",
              "       0, 1, 1, 1, 1, 1, 1, 0, 1, 1, 1, 1, 0, 1, 1, 1, 1, 0, 0, 0, 1, 0,\n",
              "       0, 1, 1, 1, 0, 0, 0, 0, 0, 1, 1, 0, 0, 0, 0, 0, 0, 1, 1, 1, 1, 1,\n",
              "       0, 1, 0, 0, 1, 1, 0, 0, 0, 1, 1, 1, 0, 0, 0, 1, 0, 0, 0, 1, 0, 1,\n",
              "       1, 1, 0, 0, 1, 1, 1, 1, 1, 0, 1, 0, 1, 1, 1, 1, 0, 0, 0, 1, 0, 1,\n",
              "       0, 0, 1, 1, 0, 0, 1, 0, 1, 0, 0, 0, 0, 1, 0, 0, 1, 1, 1, 1, 1, 0,\n",
              "       1, 0, 0, 1, 1, 1, 1, 1, 1, 0, 1, 0, 1, 1, 0, 0, 0, 1, 0, 1, 0, 0,\n",
              "       1, 1, 1, 0, 0, 1, 0, 0, 0, 0, 1, 1, 0, 0, 1, 1, 1, 1, 0, 1, 1, 0,\n",
              "       1, 1, 0, 1, 1, 0, 0, 1, 1, 0, 0, 1, 1, 1, 0, 1, 1, 0, 1, 0, 1, 1,\n",
              "       1, 1, 1, 1, 1, 1, 1, 0, 0, 0, 1, 0, 1, 0, 0, 1, 1, 1, 0, 0, 1, 0,\n",
              "       1, 1, 0, 1, 0, 0, 1, 0, 1, 1, 0, 0, 1, 0, 1, 1, 0, 1, 0, 1, 1, 1,\n",
              "       1, 0, 0, 1, 1, 1, 1, 0, 1, 1, 1, 0, 1, 0, 0, 1, 0, 0, 1, 1, 0, 1,\n",
              "       1, 0, 1, 0, 1, 0, 0, 1, 1, 1, 0, 1, 0, 1, 1, 1, 1, 1, 1, 1, 0, 0,\n",
              "       1, 1, 1, 1, 1, 0, 0, 1, 0, 1, 1, 1, 1, 1, 0, 1, 1, 1, 1, 1, 1, 0,\n",
              "       1, 1, 0, 1, 1, 1, 1, 1, 0, 1, 0, 1, 1, 1, 0, 0, 0, 0, 0, 1, 1, 1,\n",
              "       0, 0, 1, 1, 1, 1, 1, 1, 1, 1, 0, 1, 0, 0, 1, 1, 0, 1, 1, 1, 1, 0,\n",
              "       0, 0, 1, 1, 1, 1, 0, 1, 1, 1, 0, 0, 1, 0, 1, 1, 0, 1, 1, 0, 1, 1,\n",
              "       0, 1, 1, 1, 1, 1, 0, 0, 0, 1, 1, 0, 1, 1, 0, 0])"
            ]
          },
          "metadata": {
            "tags": []
          },
          "execution_count": 33
        }
      ]
    },
    {
      "cell_type": "code",
      "metadata": {
        "colab": {
          "base_uri": "https://localhost:8080/"
        },
        "id": "auCOiR3ohYbm",
        "outputId": "bf52a136-50a2-4a02-d53a-cc948de3eb13"
      },
      "source": [
        "y_pred_tree = cross_val_predict(model_tree, X_train, y_train, cv=3)\n",
        "\n",
        "print(\"f1 score:\", round(f1_score(y_train, y_pred_tree), 4))"
      ],
      "execution_count": null,
      "outputs": [
        {
          "output_type": "stream",
          "text": [
            "f1 score: 0.9735\n"
          ],
          "name": "stdout"
        }
      ]
    },
    {
      "cell_type": "code",
      "metadata": {
        "colab": {
          "base_uri": "https://localhost:8080/",
          "height": 402
        },
        "id": "8sxN87BH79hU",
        "outputId": "4f887c94-3948-4f49-d83e-752e4b7df966"
      },
      "source": [
        "submit = pd.DataFrame(zip(get_id,y_pred_tree), columns= ['id', 'stroke'])\n",
        "submit"
      ],
      "execution_count": null,
      "outputs": [
        {
          "output_type": "execute_result",
          "data": {
            "text/html": [
              "<div>\n",
              "<style scoped>\n",
              "    .dataframe tbody tr th:only-of-type {\n",
              "        vertical-align: middle;\n",
              "    }\n",
              "\n",
              "    .dataframe tbody tr th {\n",
              "        vertical-align: top;\n",
              "    }\n",
              "\n",
              "    .dataframe thead th {\n",
              "        text-align: right;\n",
              "    }\n",
              "</style>\n",
              "<table border=\"1\" class=\"dataframe\">\n",
              "  <thead>\n",
              "    <tr style=\"text-align: right;\">\n",
              "      <th></th>\n",
              "      <th>id</th>\n",
              "      <th>stroke</th>\n",
              "    </tr>\n",
              "  </thead>\n",
              "  <tbody>\n",
              "    <tr>\n",
              "      <th>0</th>\n",
              "      <td>67</td>\n",
              "      <td>0</td>\n",
              "    </tr>\n",
              "    <tr>\n",
              "      <th>1</th>\n",
              "      <td>210</td>\n",
              "      <td>0</td>\n",
              "    </tr>\n",
              "    <tr>\n",
              "      <th>2</th>\n",
              "      <td>242</td>\n",
              "      <td>0</td>\n",
              "    </tr>\n",
              "    <tr>\n",
              "      <th>3</th>\n",
              "      <td>711</td>\n",
              "      <td>0</td>\n",
              "    </tr>\n",
              "    <tr>\n",
              "      <th>4</th>\n",
              "      <td>724</td>\n",
              "      <td>0</td>\n",
              "    </tr>\n",
              "    <tr>\n",
              "      <th>...</th>\n",
              "      <td>...</td>\n",
              "      <td>...</td>\n",
              "    </tr>\n",
              "    <tr>\n",
              "      <th>107</th>\n",
              "      <td>16263</td>\n",
              "      <td>1</td>\n",
              "    </tr>\n",
              "    <tr>\n",
              "      <th>108</th>\n",
              "      <td>16320</td>\n",
              "      <td>1</td>\n",
              "    </tr>\n",
              "    <tr>\n",
              "      <th>109</th>\n",
              "      <td>16377</td>\n",
              "      <td>1</td>\n",
              "    </tr>\n",
              "    <tr>\n",
              "      <th>110</th>\n",
              "      <td>16446</td>\n",
              "      <td>1</td>\n",
              "    </tr>\n",
              "    <tr>\n",
              "      <th>111</th>\n",
              "      <td>16590</td>\n",
              "      <td>1</td>\n",
              "    </tr>\n",
              "  </tbody>\n",
              "</table>\n",
              "<p>112 rows × 2 columns</p>\n",
              "</div>"
            ],
            "text/plain": [
              "        id  stroke\n",
              "0       67       0\n",
              "1      210       0\n",
              "2      242       0\n",
              "3      711       0\n",
              "4      724       0\n",
              "..     ...     ...\n",
              "107  16263       1\n",
              "108  16320       1\n",
              "109  16377       1\n",
              "110  16446       1\n",
              "111  16590       1\n",
              "\n",
              "[112 rows x 2 columns]"
            ]
          },
          "metadata": {
            "tags": []
          },
          "execution_count": 35
        }
      ]
    },
    {
      "cell_type": "code",
      "metadata": {
        "id": "riyeexSwRgmP"
      },
      "source": [
        "submit.to_csv('sumission.csv', index=False)"
      ],
      "execution_count": null,
      "outputs": []
    }
  ]
}